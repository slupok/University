{
  "nbformat": 4,
  "nbformat_minor": 0,
  "metadata": {
    "colab": {
      "name": "first_tmp.ipynb",
      "provenance": [],
      "collapsed_sections": [],
      "authorship_tag": "ABX9TyMJdxdTTfjV5fGoEC2/i5L+",
      "include_colab_link": true
    },
    "kernelspec": {
      "name": "python3",
      "display_name": "Python 3"
    },
    "language_info": {
      "name": "python"
    }
  },
  "cells": [
    {
      "cell_type": "markdown",
      "metadata": {
        "id": "view-in-github",
        "colab_type": "text"
      },
      "source": [
        "<a href=\"https://colab.research.google.com/github/slupok/DataMining/blob/main/first_tmp.ipynb\" target=\"_parent\"><img src=\"https://colab.research.google.com/assets/colab-badge.svg\" alt=\"Open In Colab\"/></a>"
      ]
    },
    {
      "cell_type": "code",
      "execution_count": 36,
      "metadata": {
        "id": "_ORSGcXV60r5"
      },
      "outputs": [],
      "source": [
        "import pandas as pd\n",
        "import numpy as np\n",
        "import matplotlib.pyplot as plt"
      ]
    },
    {
      "cell_type": "code",
      "source": [
        "df=pd.read_csv('/content/Car_sales.csv', sep=',')\n",
        "df.drop(['Model', 'Manufacturer', '__year_resale_value', 'Price_in_thousands', 'Wheelbase', 'Curb_weight', 'Latest_Launch', 'Power_perf_factor'], axis=1, inplace=True)\n",
        "df.head()"
      ],
      "metadata": {
        "colab": {
          "base_uri": "https://localhost:8080/",
          "height": 206
        },
        "id": "wJsvUkhw7CXf",
        "outputId": "08cff7d2-33e6-4bfd-eb98-50c317c344be"
      },
      "execution_count": 37,
      "outputs": [
        {
          "output_type": "execute_result",
          "data": {
            "text/plain": [
              "   Sales_in_thousands Vehicle_type  Engine_size  Horsepower  Width  Length  \\\n",
              "0              16.919    Passenger          1.8       140.0   67.3   172.4   \n",
              "1              39.384    Passenger          3.2       225.0   70.3   192.9   \n",
              "2              14.114    Passenger          3.2       225.0   70.6   192.0   \n",
              "3               8.588    Passenger          3.5       210.0   71.4   196.6   \n",
              "4              20.397    Passenger          1.8       150.0   68.2   178.0   \n",
              "\n",
              "   Fuel_capacity  Fuel_efficiency  \n",
              "0           13.2             28.0  \n",
              "1           17.2             25.0  \n",
              "2           17.2             26.0  \n",
              "3           18.0             22.0  \n",
              "4           16.4             27.0  "
            ],
            "text/html": [
              "\n",
              "  <div id=\"df-6cf80848-5552-4bc6-8d09-e4b8fac5ca1b\">\n",
              "    <div class=\"colab-df-container\">\n",
              "      <div>\n",
              "<style scoped>\n",
              "    .dataframe tbody tr th:only-of-type {\n",
              "        vertical-align: middle;\n",
              "    }\n",
              "\n",
              "    .dataframe tbody tr th {\n",
              "        vertical-align: top;\n",
              "    }\n",
              "\n",
              "    .dataframe thead th {\n",
              "        text-align: right;\n",
              "    }\n",
              "</style>\n",
              "<table border=\"1\" class=\"dataframe\">\n",
              "  <thead>\n",
              "    <tr style=\"text-align: right;\">\n",
              "      <th></th>\n",
              "      <th>Sales_in_thousands</th>\n",
              "      <th>Vehicle_type</th>\n",
              "      <th>Engine_size</th>\n",
              "      <th>Horsepower</th>\n",
              "      <th>Width</th>\n",
              "      <th>Length</th>\n",
              "      <th>Fuel_capacity</th>\n",
              "      <th>Fuel_efficiency</th>\n",
              "    </tr>\n",
              "  </thead>\n",
              "  <tbody>\n",
              "    <tr>\n",
              "      <th>0</th>\n",
              "      <td>16.919</td>\n",
              "      <td>Passenger</td>\n",
              "      <td>1.8</td>\n",
              "      <td>140.0</td>\n",
              "      <td>67.3</td>\n",
              "      <td>172.4</td>\n",
              "      <td>13.2</td>\n",
              "      <td>28.0</td>\n",
              "    </tr>\n",
              "    <tr>\n",
              "      <th>1</th>\n",
              "      <td>39.384</td>\n",
              "      <td>Passenger</td>\n",
              "      <td>3.2</td>\n",
              "      <td>225.0</td>\n",
              "      <td>70.3</td>\n",
              "      <td>192.9</td>\n",
              "      <td>17.2</td>\n",
              "      <td>25.0</td>\n",
              "    </tr>\n",
              "    <tr>\n",
              "      <th>2</th>\n",
              "      <td>14.114</td>\n",
              "      <td>Passenger</td>\n",
              "      <td>3.2</td>\n",
              "      <td>225.0</td>\n",
              "      <td>70.6</td>\n",
              "      <td>192.0</td>\n",
              "      <td>17.2</td>\n",
              "      <td>26.0</td>\n",
              "    </tr>\n",
              "    <tr>\n",
              "      <th>3</th>\n",
              "      <td>8.588</td>\n",
              "      <td>Passenger</td>\n",
              "      <td>3.5</td>\n",
              "      <td>210.0</td>\n",
              "      <td>71.4</td>\n",
              "      <td>196.6</td>\n",
              "      <td>18.0</td>\n",
              "      <td>22.0</td>\n",
              "    </tr>\n",
              "    <tr>\n",
              "      <th>4</th>\n",
              "      <td>20.397</td>\n",
              "      <td>Passenger</td>\n",
              "      <td>1.8</td>\n",
              "      <td>150.0</td>\n",
              "      <td>68.2</td>\n",
              "      <td>178.0</td>\n",
              "      <td>16.4</td>\n",
              "      <td>27.0</td>\n",
              "    </tr>\n",
              "  </tbody>\n",
              "</table>\n",
              "</div>\n",
              "      <button class=\"colab-df-convert\" onclick=\"convertToInteractive('df-6cf80848-5552-4bc6-8d09-e4b8fac5ca1b')\"\n",
              "              title=\"Convert this dataframe to an interactive table.\"\n",
              "              style=\"display:none;\">\n",
              "        \n",
              "  <svg xmlns=\"http://www.w3.org/2000/svg\" height=\"24px\"viewBox=\"0 0 24 24\"\n",
              "       width=\"24px\">\n",
              "    <path d=\"M0 0h24v24H0V0z\" fill=\"none\"/>\n",
              "    <path d=\"M18.56 5.44l.94 2.06.94-2.06 2.06-.94-2.06-.94-.94-2.06-.94 2.06-2.06.94zm-11 1L8.5 8.5l.94-2.06 2.06-.94-2.06-.94L8.5 2.5l-.94 2.06-2.06.94zm10 10l.94 2.06.94-2.06 2.06-.94-2.06-.94-.94-2.06-.94 2.06-2.06.94z\"/><path d=\"M17.41 7.96l-1.37-1.37c-.4-.4-.92-.59-1.43-.59-.52 0-1.04.2-1.43.59L10.3 9.45l-7.72 7.72c-.78.78-.78 2.05 0 2.83L4 21.41c.39.39.9.59 1.41.59.51 0 1.02-.2 1.41-.59l7.78-7.78 2.81-2.81c.8-.78.8-2.07 0-2.86zM5.41 20L4 18.59l7.72-7.72 1.47 1.35L5.41 20z\"/>\n",
              "  </svg>\n",
              "      </button>\n",
              "      \n",
              "  <style>\n",
              "    .colab-df-container {\n",
              "      display:flex;\n",
              "      flex-wrap:wrap;\n",
              "      gap: 12px;\n",
              "    }\n",
              "\n",
              "    .colab-df-convert {\n",
              "      background-color: #E8F0FE;\n",
              "      border: none;\n",
              "      border-radius: 50%;\n",
              "      cursor: pointer;\n",
              "      display: none;\n",
              "      fill: #1967D2;\n",
              "      height: 32px;\n",
              "      padding: 0 0 0 0;\n",
              "      width: 32px;\n",
              "    }\n",
              "\n",
              "    .colab-df-convert:hover {\n",
              "      background-color: #E2EBFA;\n",
              "      box-shadow: 0px 1px 2px rgba(60, 64, 67, 0.3), 0px 1px 3px 1px rgba(60, 64, 67, 0.15);\n",
              "      fill: #174EA6;\n",
              "    }\n",
              "\n",
              "    [theme=dark] .colab-df-convert {\n",
              "      background-color: #3B4455;\n",
              "      fill: #D2E3FC;\n",
              "    }\n",
              "\n",
              "    [theme=dark] .colab-df-convert:hover {\n",
              "      background-color: #434B5C;\n",
              "      box-shadow: 0px 1px 3px 1px rgba(0, 0, 0, 0.15);\n",
              "      filter: drop-shadow(0px 1px 2px rgba(0, 0, 0, 0.3));\n",
              "      fill: #FFFFFF;\n",
              "    }\n",
              "  </style>\n",
              "\n",
              "      <script>\n",
              "        const buttonEl =\n",
              "          document.querySelector('#df-6cf80848-5552-4bc6-8d09-e4b8fac5ca1b button.colab-df-convert');\n",
              "        buttonEl.style.display =\n",
              "          google.colab.kernel.accessAllowed ? 'block' : 'none';\n",
              "\n",
              "        async function convertToInteractive(key) {\n",
              "          const element = document.querySelector('#df-6cf80848-5552-4bc6-8d09-e4b8fac5ca1b');\n",
              "          const dataTable =\n",
              "            await google.colab.kernel.invokeFunction('convertToInteractive',\n",
              "                                                     [key], {});\n",
              "          if (!dataTable) return;\n",
              "\n",
              "          const docLinkHtml = 'Like what you see? Visit the ' +\n",
              "            '<a target=\"_blank\" href=https://colab.research.google.com/notebooks/data_table.ipynb>data table notebook</a>'\n",
              "            + ' to learn more about interactive tables.';\n",
              "          element.innerHTML = '';\n",
              "          dataTable['output_type'] = 'display_data';\n",
              "          await google.colab.output.renderOutput(dataTable, element);\n",
              "          const docLink = document.createElement('div');\n",
              "          docLink.innerHTML = docLinkHtml;\n",
              "          element.appendChild(docLink);\n",
              "        }\n",
              "      </script>\n",
              "    </div>\n",
              "  </div>\n",
              "  "
            ]
          },
          "metadata": {},
          "execution_count": 37
        }
      ]
    },
    {
      "cell_type": "code",
      "source": [
        "# дозаполняем числовые столбцы с пропусками медианными значениями\n",
        "df['Engine_size'].fillna(df['Engine_size'].median(), inplace=True)\n",
        "df['Horsepower'].fillna(df['Horsepower'].median(), inplace=True)\n",
        "df['Width'].fillna(df['Width'].median(), inplace=True)\n",
        "df['Length'].fillna(df['Length'].median(), inplace=True)\n",
        "df['Fuel_capacity'].fillna(df['Fuel_capacity'].median(), inplace=True)\n",
        "df['Fuel_efficiency'].fillna(df['Fuel_efficiency'].median(), inplace=True)"
      ],
      "metadata": {
        "id": "-6nuE3ak7hGK"
      },
      "execution_count": 38,
      "outputs": []
    },
    {
      "cell_type": "code",
      "source": [
        "df.info()"
      ],
      "metadata": {
        "colab": {
          "base_uri": "https://localhost:8080/"
        },
        "id": "Hn4YlHSt7uSe",
        "outputId": "db3ddcd1-9f4a-4aa2-ae99-f21de9d51da5"
      },
      "execution_count": 39,
      "outputs": [
        {
          "output_type": "stream",
          "name": "stdout",
          "text": [
            "<class 'pandas.core.frame.DataFrame'>\n",
            "RangeIndex: 157 entries, 0 to 156\n",
            "Data columns (total 8 columns):\n",
            " #   Column              Non-Null Count  Dtype  \n",
            "---  ------              --------------  -----  \n",
            " 0   Sales_in_thousands  157 non-null    float64\n",
            " 1   Vehicle_type        157 non-null    object \n",
            " 2   Engine_size         157 non-null    float64\n",
            " 3   Horsepower          157 non-null    float64\n",
            " 4   Width               157 non-null    float64\n",
            " 5   Length              157 non-null    float64\n",
            " 6   Fuel_capacity       157 non-null    float64\n",
            " 7   Fuel_efficiency     157 non-null    float64\n",
            "dtypes: float64(7), object(1)\n",
            "memory usage: 9.9+ KB\n"
          ]
        }
      ]
    },
    {
      "cell_type": "code",
      "source": [
        "num_cols=['Sales_in_thousands',\t'Engine_size', 'Horsepower', 'Width', 'Length', 'Fuel_capacity','Fuel_efficiency']\n",
        "target_col=['Vehicle_type']"
      ],
      "metadata": {
        "id": "pi1mk8iX7Ee-"
      },
      "execution_count": 40,
      "outputs": []
    },
    {
      "cell_type": "code",
      "source": [
        "print(df.info())\n",
        "df['Vehicle_type']=pd.factorize(df['Vehicle_type'])[0]\n",
        "X=df[num_cols]\n",
        "y=df[target_col]"
      ],
      "metadata": {
        "colab": {
          "base_uri": "https://localhost:8080/"
        },
        "id": "IBKAdU998q6A",
        "outputId": "ea749ef1-7696-4319-fb20-3e2163418e5d"
      },
      "execution_count": 41,
      "outputs": [
        {
          "output_type": "stream",
          "name": "stdout",
          "text": [
            "<class 'pandas.core.frame.DataFrame'>\n",
            "RangeIndex: 157 entries, 0 to 156\n",
            "Data columns (total 8 columns):\n",
            " #   Column              Non-Null Count  Dtype  \n",
            "---  ------              --------------  -----  \n",
            " 0   Sales_in_thousands  157 non-null    float64\n",
            " 1   Vehicle_type        157 non-null    object \n",
            " 2   Engine_size         157 non-null    float64\n",
            " 3   Horsepower          157 non-null    float64\n",
            " 4   Width               157 non-null    float64\n",
            " 5   Length              157 non-null    float64\n",
            " 6   Fuel_capacity       157 non-null    float64\n",
            " 7   Fuel_efficiency     157 non-null    float64\n",
            "dtypes: float64(7), object(1)\n",
            "memory usage: 9.9+ KB\n",
            "None\n"
          ]
        }
      ]
    },
    {
      "cell_type": "code",
      "source": [
        "X.corr()\n",
        "y.value_counts()"
      ],
      "metadata": {
        "colab": {
          "base_uri": "https://localhost:8080/"
        },
        "id": "-NL_c-ML8ym2",
        "outputId": "912c8c9a-9494-484e-8b18-f1f8c75b97dd"
      },
      "execution_count": 42,
      "outputs": [
        {
          "output_type": "execute_result",
          "data": {
            "text/plain": [
              "Vehicle_type\n",
              "0               116\n",
              "1                41\n",
              "dtype: int64"
            ]
          },
          "metadata": {},
          "execution_count": 42
        }
      ]
    },
    {
      "cell_type": "code",
      "source": [
        "from sklearn.model_selection import train_test_split\n",
        "X_train,X_test,y_train,y_test=train_test_split(X,y,test_size=0.2,random_state=21)"
      ],
      "metadata": {
        "id": "oB2BvV2683OC"
      },
      "execution_count": 43,
      "outputs": []
    },
    {
      "cell_type": "code",
      "source": [
        "from sklearn.tree import DecisionTreeClassifier\n",
        "from sklearn.ensemble import RandomForestClassifier\n",
        "model=DecisionTreeClassifier(max_depth=5,random_state=21)\n",
        "modelForest=RandomForestClassifier(n_estimators=5000,max_depth=50)\n",
        "\n",
        "model.fit(X_train,y_train)\n",
        "modelForest.fit(X_train,y_train)\n",
        "\n",
        "y_pred=model.predict(X_test)"
      ],
      "metadata": {
        "colab": {
          "base_uri": "https://localhost:8080/"
        },
        "id": "QbIC-gv-878A",
        "outputId": "3bb4cdd7-0601-4e7a-de12-013a05177314"
      },
      "execution_count": 44,
      "outputs": [
        {
          "output_type": "stream",
          "name": "stderr",
          "text": [
            "/usr/local/lib/python3.7/dist-packages/ipykernel_launcher.py:7: DataConversionWarning: A column-vector y was passed when a 1d array was expected. Please change the shape of y to (n_samples,), for example using ravel().\n",
            "  import sys\n"
          ]
        }
      ]
    },
    {
      "cell_type": "code",
      "source": [
        "from sklearn.metrics import accuracy_score\n",
        "from sklearn.metrics import f1_score\n",
        "y_predForest=modelForest.predict(X_test)\n",
        "\n",
        "\n",
        "f1_score(y_test,y_predForest, average='weighted')"
      ],
      "metadata": {
        "colab": {
          "base_uri": "https://localhost:8080/"
        },
        "id": "-O9JdcB3-X00",
        "outputId": "1a091aed-eed5-45dc-b985-7992cf9f63e7"
      },
      "execution_count": 45,
      "outputs": [
        {
          "output_type": "execute_result",
          "data": {
            "text/plain": [
              "0.9680272108843537"
            ]
          },
          "metadata": {},
          "execution_count": 45
        }
      ]
    },
    {
      "cell_type": "code",
      "source": [
        "from sklearn.model_selection import cross_validate\n",
        "cv_res=cross_validate(modelForest,X,y,cv=10)\n",
        "print(cv_res['test_score'])"
      ],
      "metadata": {
        "colab": {
          "base_uri": "https://localhost:8080/"
        },
        "id": "DEhb6JyF-jNm",
        "outputId": "8722eb50-4d33-4a92-a054-0fe84d5ee31c"
      },
      "execution_count": 46,
      "outputs": [
        {
          "output_type": "stream",
          "name": "stderr",
          "text": [
            "/usr/local/lib/python3.7/dist-packages/sklearn/model_selection/_validation.py:680: DataConversionWarning: A column-vector y was passed when a 1d array was expected. Please change the shape of y to (n_samples,), for example using ravel().\n",
            "  estimator.fit(X_train, y_train, **fit_params)\n",
            "/usr/local/lib/python3.7/dist-packages/sklearn/model_selection/_validation.py:680: DataConversionWarning: A column-vector y was passed when a 1d array was expected. Please change the shape of y to (n_samples,), for example using ravel().\n",
            "  estimator.fit(X_train, y_train, **fit_params)\n",
            "/usr/local/lib/python3.7/dist-packages/sklearn/model_selection/_validation.py:680: DataConversionWarning: A column-vector y was passed when a 1d array was expected. Please change the shape of y to (n_samples,), for example using ravel().\n",
            "  estimator.fit(X_train, y_train, **fit_params)\n",
            "/usr/local/lib/python3.7/dist-packages/sklearn/model_selection/_validation.py:680: DataConversionWarning: A column-vector y was passed when a 1d array was expected. Please change the shape of y to (n_samples,), for example using ravel().\n",
            "  estimator.fit(X_train, y_train, **fit_params)\n",
            "/usr/local/lib/python3.7/dist-packages/sklearn/model_selection/_validation.py:680: DataConversionWarning: A column-vector y was passed when a 1d array was expected. Please change the shape of y to (n_samples,), for example using ravel().\n",
            "  estimator.fit(X_train, y_train, **fit_params)\n",
            "/usr/local/lib/python3.7/dist-packages/sklearn/model_selection/_validation.py:680: DataConversionWarning: A column-vector y was passed when a 1d array was expected. Please change the shape of y to (n_samples,), for example using ravel().\n",
            "  estimator.fit(X_train, y_train, **fit_params)\n",
            "/usr/local/lib/python3.7/dist-packages/sklearn/model_selection/_validation.py:680: DataConversionWarning: A column-vector y was passed when a 1d array was expected. Please change the shape of y to (n_samples,), for example using ravel().\n",
            "  estimator.fit(X_train, y_train, **fit_params)\n",
            "/usr/local/lib/python3.7/dist-packages/sklearn/model_selection/_validation.py:680: DataConversionWarning: A column-vector y was passed when a 1d array was expected. Please change the shape of y to (n_samples,), for example using ravel().\n",
            "  estimator.fit(X_train, y_train, **fit_params)\n",
            "/usr/local/lib/python3.7/dist-packages/sklearn/model_selection/_validation.py:680: DataConversionWarning: A column-vector y was passed when a 1d array was expected. Please change the shape of y to (n_samples,), for example using ravel().\n",
            "  estimator.fit(X_train, y_train, **fit_params)\n",
            "/usr/local/lib/python3.7/dist-packages/sklearn/model_selection/_validation.py:680: DataConversionWarning: A column-vector y was passed when a 1d array was expected. Please change the shape of y to (n_samples,), for example using ravel().\n",
            "  estimator.fit(X_train, y_train, **fit_params)\n"
          ]
        },
        {
          "output_type": "stream",
          "name": "stdout",
          "text": [
            "[0.9375     1.         1.         0.9375     0.9375     0.9375\n",
            " 0.9375     1.         0.93333333 0.86666667]\n"
          ]
        }
      ]
    },
    {
      "cell_type": "code",
      "source": [
        "import seaborn as sns\n",
        "sns.barplot(x=modelForest.feature_importances_,y=X_test.columns)"
      ],
      "metadata": {
        "colab": {
          "base_uri": "https://localhost:8080/",
          "height": 282
        },
        "id": "XETAZ0Pz-sxM",
        "outputId": "1e83524d-17d1-46a7-df85-e3f3e54e672a"
      },
      "execution_count": 47,
      "outputs": [
        {
          "output_type": "execute_result",
          "data": {
            "text/plain": [
              "<matplotlib.axes._subplots.AxesSubplot at 0x7fed2421bf50>"
            ]
          },
          "metadata": {},
          "execution_count": 47
        },
        {
          "output_type": "display_data",
          "data": {
            "text/plain": [
              "<Figure size 432x288 with 1 Axes>"
            ],
            "image/png": "[encoded data removed]"
          },
          "metadata": {
            "needs_background": "light"
          }
        }
      ]
    },
    {
      "cell_type": "code",
      "source": [
        "import warnings\n",
        "warnings.filterwarnings(\"ignore\")"
      ],
      "metadata": {
        "id": "Fch534k4-xRQ"
      },
      "execution_count": 48,
      "outputs": []
    },
    {
      "cell_type": "code",
      "source": [
        "from sklearn.ensemble import GradientBoostingClassifier\n",
        "modelGradSklearn=GradientBoostingClassifier(n_estimators=120,max_depth=4,random_state=21)\n",
        "modelGradSklearn.fit(X_train,y_train)\n",
        "y_pred_Grad_sk=modelGradSklearn.predict(X_test)\n",
        "f1_score(y_test,y_pred_Grad_sk, average='weighted')"
      ],
      "metadata": {
        "colab": {
          "base_uri": "https://localhost:8080/"
        },
        "id": "AjPuvijk-zk1",
        "outputId": "4afa4780-0e83-4574-d935-12cec3b25817"
      },
      "execution_count": 49,
      "outputs": [
        {
          "output_type": "execute_result",
          "data": {
            "text/plain": [
              "0.9040816326530612"
            ]
          },
          "metadata": {},
          "execution_count": 49
        }
      ]
    },
    {
      "cell_type": "code",
      "source": [
        "import xgboost as xgb\n",
        "modelGradXGB=xgb.XGBClassifier(n_estimators=80,max_depth=4,random_state=21)\n",
        "modelGradXGB.fit(X_train,y_train)\n",
        "y_pred_Grad_XGB=modelGradXGB.predict(X_test)\n",
        "f1_score(y_test,y_pred_Grad_XGB, average='weighted')"
      ],
      "metadata": {
        "colab": {
          "base_uri": "https://localhost:8080/"
        },
        "id": "eQsPNthp-2_k",
        "outputId": "c241b316-0f21-4804-b74a-af0b1e286287"
      },
      "execution_count": 50,
      "outputs": [
        {
          "output_type": "execute_result",
          "data": {
            "text/plain": [
              "0.9375"
            ]
          },
          "metadata": {},
          "execution_count": 50
        }
      ]
    },
    {
      "cell_type": "code",
      "source": [
        "!pip install catboost\n"
      ],
      "metadata": {
        "colab": {
          "base_uri": "https://localhost:8080/"
        },
        "id": "WAGicxk--5tE",
        "outputId": "0a50443f-6a70-4a48-89c0-644e277e9ba9"
      },
      "execution_count": 52,
      "outputs": [
        {
          "output_type": "stream",
          "name": "stdout",
          "text": [
            "Requirement already satisfied: catboost in /usr/local/lib/python3.7/dist-packages (1.0.5)\n",
            "Requirement already satisfied: six in /usr/local/lib/python3.7/dist-packages (from catboost) (1.15.0)\n",
            "Requirement already satisfied: matplotlib in /usr/local/lib/python3.7/dist-packages (from catboost) (3.2.2)\n",
            "Requirement already satisfied: pandas>=0.24.0 in /usr/local/lib/python3.7/dist-packages (from catboost) (1.3.5)\n",
            "Requirement already satisfied: graphviz in /usr/local/lib/python3.7/dist-packages (from catboost) (0.10.1)\n",
            "Requirement already satisfied: numpy>=1.16.0 in /usr/local/lib/python3.7/dist-packages (from catboost) (1.21.5)\n",
            "Requirement already satisfied: scipy in /usr/local/lib/python3.7/dist-packages (from catboost) (1.4.1)\n",
            "Requirement already satisfied: plotly in /usr/local/lib/python3.7/dist-packages (from catboost) (5.5.0)\n",
            "Requirement already satisfied: pytz>=2017.3 in /usr/local/lib/python3.7/dist-packages (from pandas>=0.24.0->catboost) (2018.9)\n",
            "Requirement already satisfied: python-dateutil>=2.7.3 in /usr/local/lib/python3.7/dist-packages (from pandas>=0.24.0->catboost) (2.8.2)\n",
            "Requirement already satisfied: kiwisolver>=1.0.1 in /usr/local/lib/python3.7/dist-packages (from matplotlib->catboost) (1.4.0)\n",
            "Requirement already satisfied: cycler>=0.10 in /usr/local/lib/python3.7/dist-packages (from matplotlib->catboost) (0.11.0)\n",
            "Requirement already satisfied: pyparsing!=2.0.4,!=2.1.2,!=2.1.6,>=2.0.1 in /usr/local/lib/python3.7/dist-packages (from matplotlib->catboost) (3.0.7)\n",
            "Requirement already satisfied: typing-extensions in /usr/local/lib/python3.7/dist-packages (from kiwisolver>=1.0.1->matplotlib->catboost) (3.10.0.2)\n",
            "Requirement already satisfied: tenacity>=6.2.0 in /usr/local/lib/python3.7/dist-packages (from plotly->catboost) (8.0.1)\n"
          ]
        }
      ]
    },
    {
      "cell_type": "code",
      "source": [
        "import catboost\n",
        "X_trainCB,X_testCB,y_trainCB,y_testCB=train_test_split(df[num_cols],df[target_col],test_size=0.2,random_state=21)"
      ],
      "metadata": {
        "id": "pAxXaDnX_B7x"
      },
      "execution_count": 53,
      "outputs": []
    },
    {
      "cell_type": "code",
      "source": [
        "modelGradCB=catboost.CatBoostClassifier(n_estimators=120,max_depth=4,random_state=21)\n",
        "modelGradCB.fit(X_train,y_train)\n",
        "y_pred_Grad_CB=modelGradXGB.predict(X_test)\n",
        "f1_score(y_test,y_pred_Grad_XGB, average='weighted')"
      ],
      "metadata": {
        "colab": {
          "base_uri": "https://localhost:8080/"
        },
        "id": "vYRfxA-S_gq-",
        "outputId": "f67ee1b0-ff9b-4f7d-c973-4c8c0c99c263"
      },
      "execution_count": 54,
      "outputs": [
        {
          "output_type": "stream",
          "name": "stdout",
          "text": [
            "Learning rate set to 0.029628\n",
            "0:\tlearn: 0.6796771\ttotal: 47.3ms\tremaining: 5.62s\n",
            "1:\tlearn: 0.6674095\ttotal: 47.8ms\tremaining: 2.82s\n",
            "2:\tlearn: 0.6581713\ttotal: 48.3ms\tremaining: 1.88s\n",
            "3:\tlearn: 0.6491104\ttotal: 48.6ms\tremaining: 1.41s\n",
            "4:\tlearn: 0.6376233\ttotal: 49.2ms\tremaining: 1.13s\n",
            "5:\tlearn: 0.6282170\ttotal: 49.8ms\tremaining: 946ms\n",
            "6:\tlearn: 0.6176015\ttotal: 50.5ms\tremaining: 815ms\n",
            "7:\tlearn: 0.6070821\ttotal: 51ms\tremaining: 715ms\n",
            "8:\tlearn: 0.5974917\ttotal: 51.7ms\tremaining: 637ms\n",
            "9:\tlearn: 0.5887561\ttotal: 52.3ms\tremaining: 575ms\n",
            "10:\tlearn: 0.5805431\ttotal: 54.8ms\tremaining: 543ms\n",
            "11:\tlearn: 0.5726844\ttotal: 56.5ms\tremaining: 509ms\n",
            "12:\tlearn: 0.5647386\ttotal: 57.3ms\tremaining: 472ms\n",
            "13:\tlearn: 0.5570519\ttotal: 58.3ms\tremaining: 442ms\n",
            "14:\tlearn: 0.5493145\ttotal: 62.9ms\tremaining: 440ms\n",
            "15:\tlearn: 0.5412592\ttotal: 63.5ms\tremaining: 413ms\n",
            "16:\tlearn: 0.5334104\ttotal: 64.1ms\tremaining: 388ms\n",
            "17:\tlearn: 0.5263741\ttotal: 64.6ms\tremaining: 366ms\n",
            "18:\tlearn: 0.5208322\ttotal: 65.1ms\tremaining: 346ms\n",
            "19:\tlearn: 0.5157593\ttotal: 65.7ms\tremaining: 328ms\n",
            "20:\tlearn: 0.5100965\ttotal: 66.2ms\tremaining: 312ms\n",
            "21:\tlearn: 0.5035778\ttotal: 66.7ms\tremaining: 297ms\n",
            "22:\tlearn: 0.4973632\ttotal: 67.2ms\tremaining: 284ms\n",
            "23:\tlearn: 0.4919884\ttotal: 67.8ms\tremaining: 271ms\n",
            "24:\tlearn: 0.4877062\ttotal: 68.4ms\tremaining: 260ms\n",
            "25:\tlearn: 0.4812651\ttotal: 68.9ms\tremaining: 249ms\n",
            "26:\tlearn: 0.4766726\ttotal: 69.5ms\tremaining: 239ms\n",
            "27:\tlearn: 0.4719277\ttotal: 70.1ms\tremaining: 230ms\n",
            "28:\tlearn: 0.4667609\ttotal: 70.7ms\tremaining: 222ms\n",
            "29:\tlearn: 0.4613093\ttotal: 71.2ms\tremaining: 214ms\n",
            "30:\tlearn: 0.4560492\ttotal: 71.8ms\tremaining: 206ms\n",
            "31:\tlearn: 0.4511421\ttotal: 72.4ms\tremaining: 199ms\n",
            "32:\tlearn: 0.4458877\ttotal: 73.1ms\tremaining: 193ms\n",
            "33:\tlearn: 0.4404823\ttotal: 73.6ms\tremaining: 186ms\n",
            "34:\tlearn: 0.4355108\ttotal: 74.3ms\tremaining: 180ms\n",
            "35:\tlearn: 0.4319114\ttotal: 74.8ms\tremaining: 175ms\n",
            "36:\tlearn: 0.4280966\ttotal: 75.4ms\tremaining: 169ms\n",
            "37:\tlearn: 0.4229750\ttotal: 75.9ms\tremaining: 164ms\n",
            "38:\tlearn: 0.4195884\ttotal: 76.5ms\tremaining: 159ms\n",
            "39:\tlearn: 0.4157417\ttotal: 77ms\tremaining: 154ms\n",
            "40:\tlearn: 0.4116723\ttotal: 77.5ms\tremaining: 149ms\n",
            "41:\tlearn: 0.4077657\ttotal: 78.1ms\tremaining: 145ms\n",
            "42:\tlearn: 0.4040500\ttotal: 78.6ms\tremaining: 141ms\n",
            "43:\tlearn: 0.3995125\ttotal: 79.1ms\tremaining: 137ms\n",
            "44:\tlearn: 0.3958505\ttotal: 79.7ms\tremaining: 133ms\n",
            "45:\tlearn: 0.3926250\ttotal: 80.2ms\tremaining: 129ms\n",
            "46:\tlearn: 0.3882425\ttotal: 80.7ms\tremaining: 125ms\n",
            "47:\tlearn: 0.3853607\ttotal: 81.2ms\tremaining: 122ms\n",
            "48:\tlearn: 0.3825203\ttotal: 81.7ms\tremaining: 118ms\n",
            "49:\tlearn: 0.3792359\ttotal: 82.2ms\tremaining: 115ms\n",
            "50:\tlearn: 0.3759434\ttotal: 82.7ms\tremaining: 112ms\n",
            "51:\tlearn: 0.3714370\ttotal: 83.2ms\tremaining: 109ms\n",
            "52:\tlearn: 0.3680207\ttotal: 83.7ms\tremaining: 106ms\n",
            "53:\tlearn: 0.3646737\ttotal: 84.2ms\tremaining: 103ms\n",
            "54:\tlearn: 0.3611750\ttotal: 84.7ms\tremaining: 100ms\n",
            "55:\tlearn: 0.3588295\ttotal: 85.2ms\tremaining: 97.4ms\n",
            "56:\tlearn: 0.3560773\ttotal: 85.7ms\tremaining: 94.8ms\n",
            "57:\tlearn: 0.3530323\ttotal: 86.2ms\tremaining: 92.2ms\n",
            "58:\tlearn: 0.3502170\ttotal: 86.7ms\tremaining: 89.7ms\n",
            "59:\tlearn: 0.3473839\ttotal: 87.3ms\tremaining: 87.3ms\n",
            "60:\tlearn: 0.3450000\ttotal: 87.9ms\tremaining: 85ms\n",
            "61:\tlearn: 0.3429168\ttotal: 88.6ms\tremaining: 82.9ms\n",
            "62:\tlearn: 0.3396732\ttotal: 92.8ms\tremaining: 83.9ms\n",
            "63:\tlearn: 0.3357995\ttotal: 93.3ms\tremaining: 81.7ms\n",
            "64:\tlearn: 0.3337799\ttotal: 93.8ms\tremaining: 79.4ms\n",
            "65:\tlearn: 0.3309493\ttotal: 94.4ms\tremaining: 77.2ms\n",
            "66:\tlearn: 0.3283976\ttotal: 95.2ms\tremaining: 75.3ms\n",
            "67:\tlearn: 0.3257597\ttotal: 96.3ms\tremaining: 73.6ms\n",
            "68:\tlearn: 0.3232061\ttotal: 97ms\tremaining: 71.7ms\n",
            "69:\tlearn: 0.3212782\ttotal: 97.9ms\tremaining: 69.9ms\n",
            "70:\tlearn: 0.3186543\ttotal: 98.8ms\tremaining: 68.2ms\n",
            "71:\tlearn: 0.3168046\ttotal: 99.6ms\tremaining: 66.4ms\n",
            "72:\tlearn: 0.3149959\ttotal: 100ms\tremaining: 64.7ms\n",
            "73:\tlearn: 0.3128174\ttotal: 101ms\tremaining: 62.7ms\n",
            "74:\tlearn: 0.3102409\ttotal: 101ms\tremaining: 60.7ms\n",
            "75:\tlearn: 0.3081025\ttotal: 101ms\tremaining: 58.7ms\n",
            "76:\tlearn: 0.3064696\ttotal: 102ms\tremaining: 56.9ms\n",
            "77:\tlearn: 0.3046093\ttotal: 102ms\tremaining: 55ms\n",
            "78:\tlearn: 0.3026095\ttotal: 102ms\tremaining: 53.2ms\n",
            "79:\tlearn: 0.2999495\ttotal: 103ms\tremaining: 51.4ms\n",
            "80:\tlearn: 0.2976251\ttotal: 103ms\tremaining: 49.6ms\n",
            "81:\tlearn: 0.2950295\ttotal: 104ms\tremaining: 48ms\n",
            "82:\tlearn: 0.2937335\ttotal: 104ms\tremaining: 46.4ms\n",
            "83:\tlearn: 0.2916246\ttotal: 105ms\tremaining: 44.8ms\n",
            "84:\tlearn: 0.2899807\ttotal: 105ms\tremaining: 43.3ms\n",
            "85:\tlearn: 0.2878415\ttotal: 106ms\tremaining: 41.7ms\n",
            "86:\tlearn: 0.2860010\ttotal: 106ms\tremaining: 40.2ms\n",
            "87:\tlearn: 0.2845875\ttotal: 107ms\tremaining: 38.7ms\n",
            "88:\tlearn: 0.2828454\ttotal: 107ms\tremaining: 37.3ms\n",
            "89:\tlearn: 0.2807114\ttotal: 108ms\tremaining: 35.9ms\n",
            "90:\tlearn: 0.2791749\ttotal: 108ms\tremaining: 34.4ms\n",
            "91:\tlearn: 0.2768780\ttotal: 109ms\tremaining: 33ms\n",
            "92:\tlearn: 0.2744897\ttotal: 109ms\tremaining: 31.7ms\n",
            "93:\tlearn: 0.2737323\ttotal: 110ms\tremaining: 30.4ms\n",
            "94:\tlearn: 0.2722260\ttotal: 110ms\tremaining: 29.1ms\n",
            "95:\tlearn: 0.2700751\ttotal: 111ms\tremaining: 27.7ms\n",
            "96:\tlearn: 0.2685179\ttotal: 112ms\tremaining: 26.4ms\n",
            "97:\tlearn: 0.2675522\ttotal: 112ms\tremaining: 25.1ms\n",
            "98:\tlearn: 0.2648729\ttotal: 114ms\tremaining: 24.1ms\n",
            "99:\tlearn: 0.2635365\ttotal: 114ms\tremaining: 22.8ms\n",
            "100:\tlearn: 0.2615850\ttotal: 114ms\tremaining: 21.5ms\n",
            "101:\tlearn: 0.2603955\ttotal: 115ms\tremaining: 20.2ms\n",
            "102:\tlearn: 0.2586997\ttotal: 115ms\tremaining: 19ms\n",
            "103:\tlearn: 0.2572043\ttotal: 115ms\tremaining: 17.7ms\n",
            "104:\tlearn: 0.2549521\ttotal: 116ms\tremaining: 16.5ms\n",
            "105:\tlearn: 0.2529751\ttotal: 116ms\tremaining: 15.3ms\n",
            "106:\tlearn: 0.2520506\ttotal: 116ms\tremaining: 14.1ms\n",
            "107:\tlearn: 0.2507155\ttotal: 117ms\tremaining: 13ms\n",
            "108:\tlearn: 0.2488779\ttotal: 117ms\tremaining: 11.8ms\n",
            "109:\tlearn: 0.2480790\ttotal: 117ms\tremaining: 10.7ms\n",
            "110:\tlearn: 0.2466876\ttotal: 118ms\tremaining: 9.55ms\n",
            "111:\tlearn: 0.2443627\ttotal: 118ms\tremaining: 8.45ms\n",
            "112:\tlearn: 0.2429098\ttotal: 119ms\tremaining: 7.37ms\n",
            "113:\tlearn: 0.2412659\ttotal: 120ms\tremaining: 6.29ms\n",
            "114:\tlearn: 0.2400691\ttotal: 120ms\tremaining: 5.22ms\n",
            "115:\tlearn: 0.2387114\ttotal: 121ms\tremaining: 4.16ms\n",
            "116:\tlearn: 0.2375477\ttotal: 121ms\tremaining: 3.1ms\n",
            "117:\tlearn: 0.2364295\ttotal: 122ms\tremaining: 2.06ms\n",
            "118:\tlearn: 0.2342022\ttotal: 122ms\tremaining: 1.03ms\n",
            "119:\tlearn: 0.2332451\ttotal: 123ms\tremaining: 0us\n"
          ]
        },
        {
          "output_type": "execute_result",
          "data": {
            "text/plain": [
              "0.9375"
            ]
          },
          "metadata": {},
          "execution_count": 54
        }
      ]
    }
  ]
}